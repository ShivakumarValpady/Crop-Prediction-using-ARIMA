{
 "cells": [
  {
   "cell_type": "code",
   "execution_count": 13,
   "metadata": {},
   "outputs": [],
   "source": [
    "from flask import Flask\n",
    "from flask import render_template\n",
    "from flask import request\n",
    "from json2html import *\n",
    "#from final_year_project import Lstm_price_forecast\n",
    "\n",
    "import os\n",
    "import json\n",
    "\n",
    "app = Flask(__name__)\n",
    "\n",
    "@app.route(\"/\")\n",
    "@app.route(\"/Users/hegdev/crop\")\n",
    "def main_page():\n",
    "\treturn render_template(\"Index.html\", title = \"Optimum temperature for Maximum Yield Prediction\")\n",
    "\n",
    "@app.route(\"/\", methods = [\"POST\"])\n",
    "def result():\n",
    "\tuser_city = request.values[\"city\"]\n",
    "\tprint(str(user_city))\n",
    "\treturn \"Check Terminal\"\t\n",
    "@app.route(\"/crashpit\")\n",
    "def crashpit():\n",
    "\tresult_json = {}\n",
    "\tdata_file = open(\"result.json\", \"r\")\n",
    "\tresult_json.update(json.load(data_file))\n",
    "\tdata_file.close()\n",
    "\tprint(result_json)\n",
    "\thtml_table = json2html.convert(json = result_json)\n",
    "\tprint(json2html.convert(json = result_json))\n",
    "\thtml_table =\"<html><head><title>result</title><style>table{border-collapse:collapse;width:100%;}td,th{border:1pxsolid#ddd;padding:8px;}tr:nth-child(even){background-color:#f2f2f2;}tr:hover{background-color:#ddd;}th{padding-top:12px;padding-bottom:12px;text-align:left;background-color:#4CAF50;color:white;}</style></head><body><table><th>Month</th><th>Status</th><th>Values</th></table>\" + html_table + \"</body></html>\"\n",
    "\treturn html_table\n",
    "\t#return str(result_json)\n",
    "\t#return render_template(\"result.html\", title = \"Crop Price Prediction| Fianl Year Project 2018\", result_json = str(result_json))\n"
   ]
  },
  {
   "cell_type": "code",
   "execution_count": 4,
   "metadata": {},
   "outputs": [
    {
     "data": {
      "text/plain": [
       "True"
      ]
     },
     "execution_count": 4,
     "metadata": {},
     "output_type": "execute_result"
    }
   ],
   "source": [
    "import os.path\n",
    "os.path.isfile('Index.html') "
   ]
  },
  {
   "cell_type": "code",
   "execution_count": 6,
   "metadata": {},
   "outputs": [],
   "source": [
    "with open('Index.html', 'r') as html_file:\n",
    "    html= html_file.read()"
   ]
  },
  {
   "cell_type": "code",
   "execution_count": 7,
   "metadata": {},
   "outputs": [
    {
     "data": {
      "text/plain": [
       "'<!DOCTYPE html>\\n<html lang=\"en\">\\n\\n  <head>\\n\\n    <meta charset=\"utf-8\">\\n    <meta name=\"viewport\" content=\"width=device-width, initial-scale=1, shrink-to-fit=no\">\\n    <meta name=\"description\" content=\"\">\\n    <meta name=\"author\" content=\"Pru Namikaze\">\\n\\n    <title>{{title}}</title>\\n\\n    <!-- Bootstrap core CSS -->\\n    <link href=\"https://stackpath.bootstrapcdn.com/bootstrap/4.1.3/css/bootstrap.min.css\" rel=\"stylesheet\">\\n\\n    <!-- Custom fonts for this template -->\\n    <link href=\"https://stackpath.bootstrapcdn.com/font-awesome/4.7.0/css/font-awesome.min.css\" rel=\"stylesheet\" type=\"text/css\">\\n    <link href=\"https://cdnjs.cloudflare.com/ajax/libs/simple-line-icons/2.4.1/css/simple-line-icons.css\" rel=\"stylesheet\" type=\"text/css\">\\n    <link href=\"https://fonts.googleapis.com/css?family=Lato:300,400,700,300italic,400italic,700italic\" rel=\"stylesheet\" type=\"text/css\">\\n\\n    <!-- Custom styles for this template -->\\n    <link href=\"https://cdnjs.cloudflare.com/ajax/libs/startbootstrap-landing-page/5.0.0/css/landing-page.min.css\" rel=\"stylesheet\">\\n\\n\\t<style>\\nbody  {\\n    background-image: url(\"https://www.croda.com/mediaassets/images/corporate/products-and-markets/agrochemicals/additives-and-adjuvants-for-agrochemicals.jpg?la=en-gb&w=1920&focalpointcrop=1&xratio=0&yratio=0&hash=A6A91607DF9FB8AE375BB3DB462164C9A239F927\");\\n\\tbackground-size: 1280px 720px;\\n}\\nheader{\\n\\theight: 720px;\\n\\twidth: 1280px;\\n\\tcolor: black\\n}\\nlabel{\\n\\tcolor: black;\\n}\\n#mainbox{\\n\\tposition: center;\\n    width: 350px;\\n    top: 25px;\\n    left: 50%;}\\n</style>\\n\\t\\n  </head>\\n \\n\\n  <body>\\n\\n    <!-- Masthead -->\\n    <header class=\"masthead text-black text-center\">\\n      <div class=\"overlay\"></div>\\n\\t  <h1> Select the Region name </h1>\\n      <div class=\"container\">\\n        <div class=\"card card-login mx-auto mt-5\">\\n          <div class=\"card-body\">\\n            <form method=\"POST\">\\n              <div class=\"form-group\">\\n\\t\\t\\t\\t\\t<label for=\"City\"><b>Region</b></label>\\n                    <select class=\"form-control fa\" name=\"city\" id=\"city\" aria-describedby=\"username\" placeholder=\"Eg- Bangalore...\">\\n\\t\\t\\t\\t\\t\\t<option value=\"Uttar Pradesh\"> Uttar Pradesh </option>\\n\\t\\t\\t\\t\\t\\t<option value=\"Tumkur\">Tumkur</option>\\n\\t\\t\\t\\t\\t\\t<option value=\"Shimoga\">Shimoga</option>\\n\\t\\t\\t\\t\\t\\t<option value=\"Davangere\">Davangere</option>\\n\\t\\t\\t\\t\\t</select>\\n\\t\\t\\t\\t</div>\\n              <a class=\"btn btn-primary btn-block\" href=\"crashpit\" >Analysis</a>\\n            </form>\\n          </div>\\n        </div>\\n      </div>\\n\\t  </header>\\n\\t{% block content %}{% endblock %}\\n    <!-- Bootstrap core JavaScript -->\\n    <script src=\"https://code.jquery.com/jquery-3.3.1.min.js\"></script>\\n    <script src=\"https://maxcdn.bootstrapcdn.com/bootstrap/4.0.0/js/bootstrap.min.js\"></script>\\n\\n  </body>\\n\\n</html>\\n'"
      ]
     },
     "execution_count": 7,
     "metadata": {},
     "output_type": "execute_result"
    }
   ],
   "source": [
    "html"
   ]
  },
  {
   "cell_type": "code",
   "execution_count": null,
   "metadata": {},
   "outputs": [],
   "source": []
  }
 ],
 "metadata": {
  "kernelspec": {
   "display_name": "Python 3",
   "language": "python",
   "name": "python3"
  },
  "language_info": {
   "codemirror_mode": {
    "name": "ipython",
    "version": 3
   },
   "file_extension": ".py",
   "mimetype": "text/x-python",
   "name": "python",
   "nbconvert_exporter": "python",
   "pygments_lexer": "ipython3",
   "version": "3.7.4"
  }
 },
 "nbformat": 4,
 "nbformat_minor": 2
}
